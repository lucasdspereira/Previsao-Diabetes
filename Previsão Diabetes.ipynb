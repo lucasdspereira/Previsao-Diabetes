{
 "cells": [
  {
   "cell_type": "code",
   "execution_count": 77,
   "id": "5ae7ef4d",
   "metadata": {},
   "outputs": [],
   "source": [
    "from platform import python_version"
   ]
  },
  {
   "cell_type": "code",
   "execution_count": 78,
   "id": "2eaa8355",
   "metadata": {},
   "outputs": [
    {
     "name": "stdout",
     "output_type": "stream",
     "text": [
      "3.9.13\n"
     ]
    }
   ],
   "source": [
    "print(python_version())"
   ]
  },
  {
   "cell_type": "code",
   "execution_count": 79,
   "id": "540b8b2e",
   "metadata": {},
   "outputs": [],
   "source": [
    "import numpy as np\n",
    "import pandas as pd\n",
    "import matplotlib.pyplot as plt\n",
    "import seaborn as sns\n",
    "import datetime as dt"
   ]
  },
  {
   "cell_type": "markdown",
   "id": "c3a25e91",
   "metadata": {},
   "source": [
    "# Carregando a base de dados"
   ]
  },
  {
   "cell_type": "code",
   "execution_count": 80,
   "id": "5b9456d2",
   "metadata": {},
   "outputs": [],
   "source": [
    "df = pd.read_csv(\"diabetes_prediction_dataset.csv\")"
   ]
  },
  {
   "cell_type": "code",
   "execution_count": 81,
   "id": "45b6641d",
   "metadata": {},
   "outputs": [
    {
     "data": {
      "text/html": [
       "<div>\n",
       "<style scoped>\n",
       "    .dataframe tbody tr th:only-of-type {\n",
       "        vertical-align: middle;\n",
       "    }\n",
       "\n",
       "    .dataframe tbody tr th {\n",
       "        vertical-align: top;\n",
       "    }\n",
       "\n",
       "    .dataframe thead th {\n",
       "        text-align: right;\n",
       "    }\n",
       "</style>\n",
       "<table border=\"1\" class=\"dataframe\">\n",
       "  <thead>\n",
       "    <tr style=\"text-align: right;\">\n",
       "      <th></th>\n",
       "      <th>gender</th>\n",
       "      <th>age</th>\n",
       "      <th>hypertension</th>\n",
       "      <th>heart_disease</th>\n",
       "      <th>smoking_history</th>\n",
       "      <th>bmi</th>\n",
       "      <th>HbA1c_level</th>\n",
       "      <th>blood_glucose_level</th>\n",
       "      <th>diabetes</th>\n",
       "    </tr>\n",
       "  </thead>\n",
       "  <tbody>\n",
       "    <tr>\n",
       "      <th>0</th>\n",
       "      <td>Female</td>\n",
       "      <td>80.0</td>\n",
       "      <td>0</td>\n",
       "      <td>1</td>\n",
       "      <td>never</td>\n",
       "      <td>25.19</td>\n",
       "      <td>6.6</td>\n",
       "      <td>140</td>\n",
       "      <td>0</td>\n",
       "    </tr>\n",
       "    <tr>\n",
       "      <th>1</th>\n",
       "      <td>Female</td>\n",
       "      <td>54.0</td>\n",
       "      <td>0</td>\n",
       "      <td>0</td>\n",
       "      <td>No Info</td>\n",
       "      <td>27.32</td>\n",
       "      <td>6.6</td>\n",
       "      <td>80</td>\n",
       "      <td>0</td>\n",
       "    </tr>\n",
       "    <tr>\n",
       "      <th>2</th>\n",
       "      <td>Male</td>\n",
       "      <td>28.0</td>\n",
       "      <td>0</td>\n",
       "      <td>0</td>\n",
       "      <td>never</td>\n",
       "      <td>27.32</td>\n",
       "      <td>5.7</td>\n",
       "      <td>158</td>\n",
       "      <td>0</td>\n",
       "    </tr>\n",
       "    <tr>\n",
       "      <th>3</th>\n",
       "      <td>Female</td>\n",
       "      <td>36.0</td>\n",
       "      <td>0</td>\n",
       "      <td>0</td>\n",
       "      <td>current</td>\n",
       "      <td>23.45</td>\n",
       "      <td>5.0</td>\n",
       "      <td>155</td>\n",
       "      <td>0</td>\n",
       "    </tr>\n",
       "    <tr>\n",
       "      <th>4</th>\n",
       "      <td>Male</td>\n",
       "      <td>76.0</td>\n",
       "      <td>1</td>\n",
       "      <td>1</td>\n",
       "      <td>current</td>\n",
       "      <td>20.14</td>\n",
       "      <td>4.8</td>\n",
       "      <td>155</td>\n",
       "      <td>0</td>\n",
       "    </tr>\n",
       "  </tbody>\n",
       "</table>\n",
       "</div>"
      ],
      "text/plain": [
       "   gender   age  hypertension  heart_disease smoking_history    bmi  \\\n",
       "0  Female  80.0             0              1           never  25.19   \n",
       "1  Female  54.0             0              0         No Info  27.32   \n",
       "2    Male  28.0             0              0           never  27.32   \n",
       "3  Female  36.0             0              0         current  23.45   \n",
       "4    Male  76.0             1              1         current  20.14   \n",
       "\n",
       "   HbA1c_level  blood_glucose_level  diabetes  \n",
       "0          6.6                  140         0  \n",
       "1          6.6                   80         0  \n",
       "2          5.7                  158         0  \n",
       "3          5.0                  155         0  \n",
       "4          4.8                  155         0  "
      ]
     },
     "execution_count": 81,
     "metadata": {},
     "output_type": "execute_result"
    }
   ],
   "source": [
    "df.head()"
   ]
  },
  {
   "cell_type": "code",
   "execution_count": 82,
   "id": "21dac004",
   "metadata": {},
   "outputs": [
    {
     "data": {
      "text/html": [
       "<div>\n",
       "<style scoped>\n",
       "    .dataframe tbody tr th:only-of-type {\n",
       "        vertical-align: middle;\n",
       "    }\n",
       "\n",
       "    .dataframe tbody tr th {\n",
       "        vertical-align: top;\n",
       "    }\n",
       "\n",
       "    .dataframe thead th {\n",
       "        text-align: right;\n",
       "    }\n",
       "</style>\n",
       "<table border=\"1\" class=\"dataframe\">\n",
       "  <thead>\n",
       "    <tr style=\"text-align: right;\">\n",
       "      <th></th>\n",
       "      <th>gender</th>\n",
       "      <th>age</th>\n",
       "      <th>hypertension</th>\n",
       "      <th>heart_disease</th>\n",
       "      <th>smoking_history</th>\n",
       "      <th>bmi</th>\n",
       "      <th>HbA1c_level</th>\n",
       "      <th>blood_glucose_level</th>\n",
       "      <th>diabetes</th>\n",
       "    </tr>\n",
       "  </thead>\n",
       "  <tbody>\n",
       "    <tr>\n",
       "      <th>99995</th>\n",
       "      <td>Female</td>\n",
       "      <td>80.0</td>\n",
       "      <td>0</td>\n",
       "      <td>0</td>\n",
       "      <td>No Info</td>\n",
       "      <td>27.32</td>\n",
       "      <td>6.2</td>\n",
       "      <td>90</td>\n",
       "      <td>0</td>\n",
       "    </tr>\n",
       "    <tr>\n",
       "      <th>99996</th>\n",
       "      <td>Female</td>\n",
       "      <td>2.0</td>\n",
       "      <td>0</td>\n",
       "      <td>0</td>\n",
       "      <td>No Info</td>\n",
       "      <td>17.37</td>\n",
       "      <td>6.5</td>\n",
       "      <td>100</td>\n",
       "      <td>0</td>\n",
       "    </tr>\n",
       "    <tr>\n",
       "      <th>99997</th>\n",
       "      <td>Male</td>\n",
       "      <td>66.0</td>\n",
       "      <td>0</td>\n",
       "      <td>0</td>\n",
       "      <td>former</td>\n",
       "      <td>27.83</td>\n",
       "      <td>5.7</td>\n",
       "      <td>155</td>\n",
       "      <td>0</td>\n",
       "    </tr>\n",
       "    <tr>\n",
       "      <th>99998</th>\n",
       "      <td>Female</td>\n",
       "      <td>24.0</td>\n",
       "      <td>0</td>\n",
       "      <td>0</td>\n",
       "      <td>never</td>\n",
       "      <td>35.42</td>\n",
       "      <td>4.0</td>\n",
       "      <td>100</td>\n",
       "      <td>0</td>\n",
       "    </tr>\n",
       "    <tr>\n",
       "      <th>99999</th>\n",
       "      <td>Female</td>\n",
       "      <td>57.0</td>\n",
       "      <td>0</td>\n",
       "      <td>0</td>\n",
       "      <td>current</td>\n",
       "      <td>22.43</td>\n",
       "      <td>6.6</td>\n",
       "      <td>90</td>\n",
       "      <td>0</td>\n",
       "    </tr>\n",
       "  </tbody>\n",
       "</table>\n",
       "</div>"
      ],
      "text/plain": [
       "       gender   age  hypertension  heart_disease smoking_history    bmi  \\\n",
       "99995  Female  80.0             0              0         No Info  27.32   \n",
       "99996  Female   2.0             0              0         No Info  17.37   \n",
       "99997    Male  66.0             0              0          former  27.83   \n",
       "99998  Female  24.0             0              0           never  35.42   \n",
       "99999  Female  57.0             0              0         current  22.43   \n",
       "\n",
       "       HbA1c_level  blood_glucose_level  diabetes  \n",
       "99995          6.2                   90         0  \n",
       "99996          6.5                  100         0  \n",
       "99997          5.7                  155         0  \n",
       "99998          4.0                  100         0  \n",
       "99999          6.6                   90         0  "
      ]
     },
     "execution_count": 82,
     "metadata": {},
     "output_type": "execute_result"
    }
   ],
   "source": [
    "df.tail()"
   ]
  },
  {
   "cell_type": "code",
   "execution_count": 83,
   "id": "a9104ac1",
   "metadata": {},
   "outputs": [
    {
     "data": {
      "text/plain": [
       "(100000, 9)"
      ]
     },
     "execution_count": 83,
     "metadata": {},
     "output_type": "execute_result"
    }
   ],
   "source": [
    "df.shape"
   ]
  },
  {
   "cell_type": "markdown",
   "id": "c9e8d864",
   "metadata": {},
   "source": [
    "# Análise Exploratória"
   ]
  },
  {
   "cell_type": "code",
   "execution_count": 84,
   "id": "33e4eefd",
   "metadata": {},
   "outputs": [
    {
     "data": {
      "text/plain": [
       "gender                  object\n",
       "age                    float64\n",
       "hypertension             int64\n",
       "heart_disease            int64\n",
       "smoking_history         object\n",
       "bmi                    float64\n",
       "HbA1c_level            float64\n",
       "blood_glucose_level      int64\n",
       "diabetes                 int64\n",
       "dtype: object"
      ]
     },
     "execution_count": 84,
     "metadata": {},
     "output_type": "execute_result"
    }
   ],
   "source": [
    "# Verificando o tipo de dado de cada coluna\n",
    "\n",
    "df.dtypes"
   ]
  },
  {
   "cell_type": "code",
   "execution_count": 85,
   "id": "fa54eeef",
   "metadata": {},
   "outputs": [
    {
     "data": {
      "text/plain": [
       "gender                 0\n",
       "age                    0\n",
       "hypertension           0\n",
       "heart_disease          0\n",
       "smoking_history        0\n",
       "bmi                    0\n",
       "HbA1c_level            0\n",
       "blood_glucose_level    0\n",
       "diabetes               0\n",
       "dtype: int64"
      ]
     },
     "execution_count": 85,
     "metadata": {},
     "output_type": "execute_result"
    }
   ],
   "source": [
    "# Verificando se há valores ausentes\n",
    "\n",
    "df.isna().sum()"
   ]
  },
  {
   "cell_type": "markdown",
   "id": "a8af1b1a",
   "metadata": {},
   "source": [
    "# Transformando dados de interesse"
   ]
  },
  {
   "cell_type": "code",
   "execution_count": 86,
   "id": "05106ab1",
   "metadata": {},
   "outputs": [
    {
     "name": "stdout",
     "output_type": "stream",
     "text": [
      "No Info        35816\n",
      "never          35095\n",
      "former          9352\n",
      "current         9286\n",
      "not current     6447\n",
      "ever            4004\n",
      "Name: smoking_history, dtype: int64\n"
     ]
    }
   ],
   "source": [
    "# Verificando o dicionário de colunas\n",
    "\n",
    "dict1 = df['smoking_history'].value_counts()\n",
    "print(dict1)"
   ]
  },
  {
   "cell_type": "code",
   "execution_count": 87,
   "id": "376fa75c",
   "metadata": {},
   "outputs": [
    {
     "name": "stdout",
     "output_type": "stream",
     "text": [
      "Female    58552\n",
      "Male      41430\n",
      "Other        18\n",
      "Name: gender, dtype: int64\n"
     ]
    }
   ],
   "source": [
    "dict2 = df['gender'].value_counts()\n",
    "print(dict2)"
   ]
  },
  {
   "cell_type": "code",
   "execution_count": 88,
   "id": "5eadca39",
   "metadata": {},
   "outputs": [
    {
     "name": "stdout",
     "output_type": "stream",
     "text": [
      "0    92515\n",
      "1     7485\n",
      "Name: hypertension, dtype: int64\n"
     ]
    }
   ],
   "source": [
    "dict3 = df['hypertension'].value_counts()\n",
    "print(dict3)"
   ]
  },
  {
   "cell_type": "code",
   "execution_count": 89,
   "id": "75b672b0",
   "metadata": {},
   "outputs": [
    {
     "name": "stdout",
     "output_type": "stream",
     "text": [
      "0    96058\n",
      "1     3942\n",
      "Name: heart_disease, dtype: int64\n"
     ]
    }
   ],
   "source": [
    "dict4 = df['heart_disease'].value_counts()\n",
    "print(dict4)"
   ]
  },
  {
   "cell_type": "code",
   "execution_count": 90,
   "id": "7647cb08",
   "metadata": {},
   "outputs": [
    {
     "name": "stdout",
     "output_type": "stream",
     "text": [
      "0    91500\n",
      "1     8500\n",
      "Name: diabetes, dtype: int64\n"
     ]
    }
   ],
   "source": [
    "dict5 = df['diabetes'].value_counts()\n",
    "print(dict5)"
   ]
  },
  {
   "cell_type": "code",
   "execution_count": 91,
   "id": "4a20feae",
   "metadata": {},
   "outputs": [],
   "source": [
    "# Alterando o dicionário de colunas\n",
    "\n",
    "df.loc[df['gender'] == 'Male', 'gender'] = 'Masculino'\n",
    "df.loc[df['gender'] == 'Female', 'gender'] = 'Feminino'\n",
    "df.loc[df['gender'] == 'Other', 'gender'] = 'Outros'\n",
    "\n",
    "df.loc[df['hypertension'] == 0, 'hypertension'] = 'Não'\n",
    "df.loc[df['hypertension'] == 1, 'hypertension'] = 'Sim'\n",
    "\n",
    "df.loc[df['heart_disease'] == 0, 'heart_disease'] = 'Não'\n",
    "df.loc[df['heart_disease'] == 1, 'heart_disease'] = 'Sim'\n",
    "\n",
    "df.loc[df['smoking_history'] == 'No Info', 'smoking_history'] = 'Sem informações'\n",
    "df.loc[df['smoking_history'] == 'never', 'smoking_history'] = 'Nunca'\n",
    "df.loc[df['smoking_history'] == 'former', 'smoking_history'] = 'Ex-fumante'\n",
    "df.loc[df['smoking_history'] == 'current', 'smoking_history'] = 'Fuma pouco'\n",
    "df.loc[df['smoking_history'] == 'not current', 'smoking_history'] = 'Não fuma atualmente'\n",
    "df.loc[df['smoking_history'] == 'ever', 'smoking_history'] = 'Fuma regularmente'\n",
    "\n",
    "df.loc[df['diabetes'] == 0, 'diabetes'] = 'Não'\n",
    "df.loc[df['diabetes'] == 1, 'diabetes'] = 'Sim'"
   ]
  },
  {
   "cell_type": "code",
   "execution_count": 92,
   "id": "5c91e83c",
   "metadata": {
    "scrolled": true
   },
   "outputs": [
    {
     "data": {
      "text/html": [
       "<div>\n",
       "<style scoped>\n",
       "    .dataframe tbody tr th:only-of-type {\n",
       "        vertical-align: middle;\n",
       "    }\n",
       "\n",
       "    .dataframe tbody tr th {\n",
       "        vertical-align: top;\n",
       "    }\n",
       "\n",
       "    .dataframe thead th {\n",
       "        text-align: right;\n",
       "    }\n",
       "</style>\n",
       "<table border=\"1\" class=\"dataframe\">\n",
       "  <thead>\n",
       "    <tr style=\"text-align: right;\">\n",
       "      <th></th>\n",
       "      <th>gender</th>\n",
       "      <th>age</th>\n",
       "      <th>hypertension</th>\n",
       "      <th>heart_disease</th>\n",
       "      <th>smoking_history</th>\n",
       "      <th>bmi</th>\n",
       "      <th>HbA1c_level</th>\n",
       "      <th>blood_glucose_level</th>\n",
       "      <th>diabetes</th>\n",
       "    </tr>\n",
       "  </thead>\n",
       "  <tbody>\n",
       "    <tr>\n",
       "      <th>0</th>\n",
       "      <td>Feminino</td>\n",
       "      <td>80.0</td>\n",
       "      <td>Não</td>\n",
       "      <td>Sim</td>\n",
       "      <td>Nunca</td>\n",
       "      <td>25.19</td>\n",
       "      <td>6.6</td>\n",
       "      <td>140</td>\n",
       "      <td>Não</td>\n",
       "    </tr>\n",
       "    <tr>\n",
       "      <th>1</th>\n",
       "      <td>Feminino</td>\n",
       "      <td>54.0</td>\n",
       "      <td>Não</td>\n",
       "      <td>Não</td>\n",
       "      <td>Sem informações</td>\n",
       "      <td>27.32</td>\n",
       "      <td>6.6</td>\n",
       "      <td>80</td>\n",
       "      <td>Não</td>\n",
       "    </tr>\n",
       "    <tr>\n",
       "      <th>2</th>\n",
       "      <td>Masculino</td>\n",
       "      <td>28.0</td>\n",
       "      <td>Não</td>\n",
       "      <td>Não</td>\n",
       "      <td>Nunca</td>\n",
       "      <td>27.32</td>\n",
       "      <td>5.7</td>\n",
       "      <td>158</td>\n",
       "      <td>Não</td>\n",
       "    </tr>\n",
       "    <tr>\n",
       "      <th>3</th>\n",
       "      <td>Feminino</td>\n",
       "      <td>36.0</td>\n",
       "      <td>Não</td>\n",
       "      <td>Não</td>\n",
       "      <td>Fuma pouco</td>\n",
       "      <td>23.45</td>\n",
       "      <td>5.0</td>\n",
       "      <td>155</td>\n",
       "      <td>Não</td>\n",
       "    </tr>\n",
       "    <tr>\n",
       "      <th>4</th>\n",
       "      <td>Masculino</td>\n",
       "      <td>76.0</td>\n",
       "      <td>Sim</td>\n",
       "      <td>Sim</td>\n",
       "      <td>Fuma pouco</td>\n",
       "      <td>20.14</td>\n",
       "      <td>4.8</td>\n",
       "      <td>155</td>\n",
       "      <td>Não</td>\n",
       "    </tr>\n",
       "  </tbody>\n",
       "</table>\n",
       "</div>"
      ],
      "text/plain": [
       "      gender   age hypertension heart_disease  smoking_history    bmi  \\\n",
       "0   Feminino  80.0          Não           Sim            Nunca  25.19   \n",
       "1   Feminino  54.0          Não           Não  Sem informações  27.32   \n",
       "2  Masculino  28.0          Não           Não            Nunca  27.32   \n",
       "3   Feminino  36.0          Não           Não       Fuma pouco  23.45   \n",
       "4  Masculino  76.0          Sim           Sim       Fuma pouco  20.14   \n",
       "\n",
       "   HbA1c_level  blood_glucose_level diabetes  \n",
       "0          6.6                  140      Não  \n",
       "1          6.6                   80      Não  \n",
       "2          5.7                  158      Não  \n",
       "3          5.0                  155      Não  \n",
       "4          4.8                  155      Não  "
      ]
     },
     "execution_count": 92,
     "metadata": {},
     "output_type": "execute_result"
    }
   ],
   "source": [
    "df.head()"
   ]
  },
  {
   "cell_type": "code",
   "execution_count": 93,
   "id": "ec8635a3",
   "metadata": {},
   "outputs": [
    {
     "data": {
      "text/plain": [
       "count    100000.000000\n",
       "mean         41.885856\n",
       "std          22.516840\n",
       "min           0.080000\n",
       "25%          24.000000\n",
       "50%          43.000000\n",
       "75%          60.000000\n",
       "max          80.000000\n",
       "Name: age, dtype: float64"
      ]
     },
     "execution_count": 93,
     "metadata": {},
     "output_type": "execute_result"
    }
   ],
   "source": [
    "# Inserindo a coluna 'faixa_idade'\n",
    "\n",
    "df['age'].describe()"
   ]
  },
  {
   "cell_type": "code",
   "execution_count": 94,
   "id": "be381d3b",
   "metadata": {},
   "outputs": [],
   "source": [
    "df['faixa_idade'] = pd.cut(df['age'], bins=[0, 10, 20, 30, 40, 50, 60, 70, 80], labels=['0-10', '11-20', '21-30', '31-40', '41-50', '51-60', '61-70', '71-80'])"
   ]
  },
  {
   "cell_type": "code",
   "execution_count": 95,
   "id": "008c2d70",
   "metadata": {},
   "outputs": [
    {
     "data": {
      "text/plain": [
       "count    100000.000000\n",
       "mean         27.320767\n",
       "std           6.636783\n",
       "min          10.010000\n",
       "25%          23.630000\n",
       "50%          27.320000\n",
       "75%          29.580000\n",
       "max          95.690000\n",
       "Name: bmi, dtype: float64"
      ]
     },
     "execution_count": 95,
     "metadata": {},
     "output_type": "execute_result"
    }
   ],
   "source": [
    "# Inserindo a coluna 'faixa_imc', a partir da classificação feita pela Organização Mundial de Saúde (OMS)\n",
    "\n",
    "df['bmi'].describe()"
   ]
  },
  {
   "cell_type": "code",
   "execution_count": 96,
   "id": "264c9a19",
   "metadata": {},
   "outputs": [],
   "source": [
    "df['faixa_imc'] = pd.cut(df['bmi'], bins=[0, 18.5, 24.9, 29.9, 34.9, 39.9, 100], labels=['Baixo peso', 'Normal', 'Sobrepeso', 'Obesidade', 'Obesidade Mórbida 1', 'Obesidade Mórbida 2'])"
   ]
  },
  {
   "cell_type": "code",
   "execution_count": 97,
   "id": "8a6a715f",
   "metadata": {},
   "outputs": [
    {
     "data": {
      "text/plain": [
       "count    100000.000000\n",
       "mean        138.058060\n",
       "std          40.708136\n",
       "min          80.000000\n",
       "25%         100.000000\n",
       "50%         140.000000\n",
       "75%         159.000000\n",
       "max         300.000000\n",
       "Name: blood_glucose_level, dtype: float64"
      ]
     },
     "execution_count": 97,
     "metadata": {},
     "output_type": "execute_result"
    }
   ],
   "source": [
    "# Inserindo a coluna 'faixa_glicemia', a partir da classificação da OMS\n",
    "\n",
    "df['blood_glucose_level'].describe()"
   ]
  },
  {
   "cell_type": "code",
   "execution_count": 98,
   "id": "e227aa9b",
   "metadata": {},
   "outputs": [],
   "source": [
    "df['faixa_glicemia'] = pd.cut(df['blood_glucose_level'], bins=[0, 70, 110, 126, 400], labels=['Hipoglicemia', 'Normal', 'Pré-diabetes', 'Possível diabetes'])"
   ]
  },
  {
   "cell_type": "code",
   "execution_count": 99,
   "id": "43cebccd",
   "metadata": {},
   "outputs": [
    {
     "data": {
      "text/html": [
       "<div>\n",
       "<style scoped>\n",
       "    .dataframe tbody tr th:only-of-type {\n",
       "        vertical-align: middle;\n",
       "    }\n",
       "\n",
       "    .dataframe tbody tr th {\n",
       "        vertical-align: top;\n",
       "    }\n",
       "\n",
       "    .dataframe thead th {\n",
       "        text-align: right;\n",
       "    }\n",
       "</style>\n",
       "<table border=\"1\" class=\"dataframe\">\n",
       "  <thead>\n",
       "    <tr style=\"text-align: right;\">\n",
       "      <th></th>\n",
       "      <th>gender</th>\n",
       "      <th>age</th>\n",
       "      <th>hypertension</th>\n",
       "      <th>heart_disease</th>\n",
       "      <th>smoking_history</th>\n",
       "      <th>bmi</th>\n",
       "      <th>HbA1c_level</th>\n",
       "      <th>blood_glucose_level</th>\n",
       "      <th>diabetes</th>\n",
       "      <th>faixa_idade</th>\n",
       "      <th>faixa_imc</th>\n",
       "      <th>faixa_glicemia</th>\n",
       "    </tr>\n",
       "  </thead>\n",
       "  <tbody>\n",
       "    <tr>\n",
       "      <th>0</th>\n",
       "      <td>Feminino</td>\n",
       "      <td>80.0</td>\n",
       "      <td>Não</td>\n",
       "      <td>Sim</td>\n",
       "      <td>Nunca</td>\n",
       "      <td>25.19</td>\n",
       "      <td>6.6</td>\n",
       "      <td>140</td>\n",
       "      <td>Não</td>\n",
       "      <td>71-80</td>\n",
       "      <td>Sobrepeso</td>\n",
       "      <td>Possível diabetes</td>\n",
       "    </tr>\n",
       "    <tr>\n",
       "      <th>1</th>\n",
       "      <td>Feminino</td>\n",
       "      <td>54.0</td>\n",
       "      <td>Não</td>\n",
       "      <td>Não</td>\n",
       "      <td>Sem informações</td>\n",
       "      <td>27.32</td>\n",
       "      <td>6.6</td>\n",
       "      <td>80</td>\n",
       "      <td>Não</td>\n",
       "      <td>51-60</td>\n",
       "      <td>Sobrepeso</td>\n",
       "      <td>Normal</td>\n",
       "    </tr>\n",
       "    <tr>\n",
       "      <th>2</th>\n",
       "      <td>Masculino</td>\n",
       "      <td>28.0</td>\n",
       "      <td>Não</td>\n",
       "      <td>Não</td>\n",
       "      <td>Nunca</td>\n",
       "      <td>27.32</td>\n",
       "      <td>5.7</td>\n",
       "      <td>158</td>\n",
       "      <td>Não</td>\n",
       "      <td>21-30</td>\n",
       "      <td>Sobrepeso</td>\n",
       "      <td>Possível diabetes</td>\n",
       "    </tr>\n",
       "    <tr>\n",
       "      <th>3</th>\n",
       "      <td>Feminino</td>\n",
       "      <td>36.0</td>\n",
       "      <td>Não</td>\n",
       "      <td>Não</td>\n",
       "      <td>Fuma pouco</td>\n",
       "      <td>23.45</td>\n",
       "      <td>5.0</td>\n",
       "      <td>155</td>\n",
       "      <td>Não</td>\n",
       "      <td>31-40</td>\n",
       "      <td>Normal</td>\n",
       "      <td>Possível diabetes</td>\n",
       "    </tr>\n",
       "    <tr>\n",
       "      <th>4</th>\n",
       "      <td>Masculino</td>\n",
       "      <td>76.0</td>\n",
       "      <td>Sim</td>\n",
       "      <td>Sim</td>\n",
       "      <td>Fuma pouco</td>\n",
       "      <td>20.14</td>\n",
       "      <td>4.8</td>\n",
       "      <td>155</td>\n",
       "      <td>Não</td>\n",
       "      <td>71-80</td>\n",
       "      <td>Normal</td>\n",
       "      <td>Possível diabetes</td>\n",
       "    </tr>\n",
       "  </tbody>\n",
       "</table>\n",
       "</div>"
      ],
      "text/plain": [
       "      gender   age hypertension heart_disease  smoking_history    bmi  \\\n",
       "0   Feminino  80.0          Não           Sim            Nunca  25.19   \n",
       "1   Feminino  54.0          Não           Não  Sem informações  27.32   \n",
       "2  Masculino  28.0          Não           Não            Nunca  27.32   \n",
       "3   Feminino  36.0          Não           Não       Fuma pouco  23.45   \n",
       "4  Masculino  76.0          Sim           Sim       Fuma pouco  20.14   \n",
       "\n",
       "   HbA1c_level  blood_glucose_level diabetes faixa_idade  faixa_imc  \\\n",
       "0          6.6                  140      Não       71-80  Sobrepeso   \n",
       "1          6.6                   80      Não       51-60  Sobrepeso   \n",
       "2          5.7                  158      Não       21-30  Sobrepeso   \n",
       "3          5.0                  155      Não       31-40     Normal   \n",
       "4          4.8                  155      Não       71-80     Normal   \n",
       "\n",
       "      faixa_glicemia  \n",
       "0  Possível diabetes  \n",
       "1             Normal  \n",
       "2  Possível diabetes  \n",
       "3  Possível diabetes  \n",
       "4  Possível diabetes  "
      ]
     },
     "execution_count": 99,
     "metadata": {},
     "output_type": "execute_result"
    }
   ],
   "source": [
    "df.head()"
   ]
  },
  {
   "cell_type": "code",
   "execution_count": 100,
   "id": "e69b5734",
   "metadata": {
    "scrolled": true
   },
   "outputs": [],
   "source": [
    "# Alterando títulos das colunas\n",
    "''\n",
    "df.columns = ['genero', 'idade', 'hipertensao', 'doenca_cardiaca', 'historico_fumante', 'imc', 'nivel_hba1c', 'nivel_glicose_sangue', 'diabetico', 'faixa_idade', 'faixa_glicemia', 'faixa_imc']"
   ]
  },
  {
   "cell_type": "code",
   "execution_count": 101,
   "id": "4b109b46",
   "metadata": {
    "scrolled": true
   },
   "outputs": [
    {
     "data": {
      "text/html": [
       "<div>\n",
       "<style scoped>\n",
       "    .dataframe tbody tr th:only-of-type {\n",
       "        vertical-align: middle;\n",
       "    }\n",
       "\n",
       "    .dataframe tbody tr th {\n",
       "        vertical-align: top;\n",
       "    }\n",
       "\n",
       "    .dataframe thead th {\n",
       "        text-align: right;\n",
       "    }\n",
       "</style>\n",
       "<table border=\"1\" class=\"dataframe\">\n",
       "  <thead>\n",
       "    <tr style=\"text-align: right;\">\n",
       "      <th></th>\n",
       "      <th>genero</th>\n",
       "      <th>idade</th>\n",
       "      <th>hipertensao</th>\n",
       "      <th>doenca_cardiaca</th>\n",
       "      <th>historico_fumante</th>\n",
       "      <th>imc</th>\n",
       "      <th>nivel_hba1c</th>\n",
       "      <th>nivel_glicose_sangue</th>\n",
       "      <th>diabetico</th>\n",
       "      <th>faixa_idade</th>\n",
       "      <th>faixa_glicemia</th>\n",
       "      <th>faixa_imc</th>\n",
       "    </tr>\n",
       "  </thead>\n",
       "  <tbody>\n",
       "    <tr>\n",
       "      <th>0</th>\n",
       "      <td>Feminino</td>\n",
       "      <td>80.0</td>\n",
       "      <td>Não</td>\n",
       "      <td>Sim</td>\n",
       "      <td>Nunca</td>\n",
       "      <td>25.19</td>\n",
       "      <td>6.6</td>\n",
       "      <td>140</td>\n",
       "      <td>Não</td>\n",
       "      <td>71-80</td>\n",
       "      <td>Sobrepeso</td>\n",
       "      <td>Possível diabetes</td>\n",
       "    </tr>\n",
       "    <tr>\n",
       "      <th>1</th>\n",
       "      <td>Feminino</td>\n",
       "      <td>54.0</td>\n",
       "      <td>Não</td>\n",
       "      <td>Não</td>\n",
       "      <td>Sem informações</td>\n",
       "      <td>27.32</td>\n",
       "      <td>6.6</td>\n",
       "      <td>80</td>\n",
       "      <td>Não</td>\n",
       "      <td>51-60</td>\n",
       "      <td>Sobrepeso</td>\n",
       "      <td>Normal</td>\n",
       "    </tr>\n",
       "    <tr>\n",
       "      <th>2</th>\n",
       "      <td>Masculino</td>\n",
       "      <td>28.0</td>\n",
       "      <td>Não</td>\n",
       "      <td>Não</td>\n",
       "      <td>Nunca</td>\n",
       "      <td>27.32</td>\n",
       "      <td>5.7</td>\n",
       "      <td>158</td>\n",
       "      <td>Não</td>\n",
       "      <td>21-30</td>\n",
       "      <td>Sobrepeso</td>\n",
       "      <td>Possível diabetes</td>\n",
       "    </tr>\n",
       "    <tr>\n",
       "      <th>3</th>\n",
       "      <td>Feminino</td>\n",
       "      <td>36.0</td>\n",
       "      <td>Não</td>\n",
       "      <td>Não</td>\n",
       "      <td>Fuma pouco</td>\n",
       "      <td>23.45</td>\n",
       "      <td>5.0</td>\n",
       "      <td>155</td>\n",
       "      <td>Não</td>\n",
       "      <td>31-40</td>\n",
       "      <td>Normal</td>\n",
       "      <td>Possível diabetes</td>\n",
       "    </tr>\n",
       "    <tr>\n",
       "      <th>4</th>\n",
       "      <td>Masculino</td>\n",
       "      <td>76.0</td>\n",
       "      <td>Sim</td>\n",
       "      <td>Sim</td>\n",
       "      <td>Fuma pouco</td>\n",
       "      <td>20.14</td>\n",
       "      <td>4.8</td>\n",
       "      <td>155</td>\n",
       "      <td>Não</td>\n",
       "      <td>71-80</td>\n",
       "      <td>Normal</td>\n",
       "      <td>Possível diabetes</td>\n",
       "    </tr>\n",
       "  </tbody>\n",
       "</table>\n",
       "</div>"
      ],
      "text/plain": [
       "      genero  idade hipertensao doenca_cardiaca historico_fumante    imc  \\\n",
       "0   Feminino   80.0         Não             Sim             Nunca  25.19   \n",
       "1   Feminino   54.0         Não             Não   Sem informações  27.32   \n",
       "2  Masculino   28.0         Não             Não             Nunca  27.32   \n",
       "3   Feminino   36.0         Não             Não        Fuma pouco  23.45   \n",
       "4  Masculino   76.0         Sim             Sim        Fuma pouco  20.14   \n",
       "\n",
       "   nivel_hba1c  nivel_glicose_sangue diabetico faixa_idade faixa_glicemia  \\\n",
       "0          6.6                   140       Não       71-80      Sobrepeso   \n",
       "1          6.6                    80       Não       51-60      Sobrepeso   \n",
       "2          5.7                   158       Não       21-30      Sobrepeso   \n",
       "3          5.0                   155       Não       31-40         Normal   \n",
       "4          4.8                   155       Não       71-80         Normal   \n",
       "\n",
       "           faixa_imc  \n",
       "0  Possível diabetes  \n",
       "1             Normal  \n",
       "2  Possível diabetes  \n",
       "3  Possível diabetes  \n",
       "4  Possível diabetes  "
      ]
     },
     "execution_count": 101,
     "metadata": {},
     "output_type": "execute_result"
    }
   ],
   "source": [
    "df.head()"
   ]
  },
  {
   "cell_type": "code",
   "execution_count": 102,
   "id": "3d0ff752",
   "metadata": {},
   "outputs": [],
   "source": [
    "# Alterando ordem das colunas\n",
    "\n",
    "df = df.reindex(columns=['genero', 'idade', 'faixa_idade', 'hipertensao', 'doenca_cardiaca', 'historico_fumante', 'imc', 'faixa_imc', 'nivel_hba1c', 'nivel_glicose_sangue', 'faixa_glicemia', 'diabetico'])"
   ]
  },
  {
   "cell_type": "code",
   "execution_count": 103,
   "id": "a50f9137",
   "metadata": {},
   "outputs": [
    {
     "data": {
      "text/html": [
       "<div>\n",
       "<style scoped>\n",
       "    .dataframe tbody tr th:only-of-type {\n",
       "        vertical-align: middle;\n",
       "    }\n",
       "\n",
       "    .dataframe tbody tr th {\n",
       "        vertical-align: top;\n",
       "    }\n",
       "\n",
       "    .dataframe thead th {\n",
       "        text-align: right;\n",
       "    }\n",
       "</style>\n",
       "<table border=\"1\" class=\"dataframe\">\n",
       "  <thead>\n",
       "    <tr style=\"text-align: right;\">\n",
       "      <th></th>\n",
       "      <th>genero</th>\n",
       "      <th>idade</th>\n",
       "      <th>faixa_idade</th>\n",
       "      <th>hipertensao</th>\n",
       "      <th>doenca_cardiaca</th>\n",
       "      <th>historico_fumante</th>\n",
       "      <th>imc</th>\n",
       "      <th>faixa_imc</th>\n",
       "      <th>nivel_hba1c</th>\n",
       "      <th>nivel_glicose_sangue</th>\n",
       "      <th>faixa_glicemia</th>\n",
       "      <th>diabetico</th>\n",
       "    </tr>\n",
       "  </thead>\n",
       "  <tbody>\n",
       "    <tr>\n",
       "      <th>0</th>\n",
       "      <td>Feminino</td>\n",
       "      <td>80.0</td>\n",
       "      <td>71-80</td>\n",
       "      <td>Não</td>\n",
       "      <td>Sim</td>\n",
       "      <td>Nunca</td>\n",
       "      <td>25.19</td>\n",
       "      <td>Possível diabetes</td>\n",
       "      <td>6.6</td>\n",
       "      <td>140</td>\n",
       "      <td>Sobrepeso</td>\n",
       "      <td>Não</td>\n",
       "    </tr>\n",
       "    <tr>\n",
       "      <th>1</th>\n",
       "      <td>Feminino</td>\n",
       "      <td>54.0</td>\n",
       "      <td>51-60</td>\n",
       "      <td>Não</td>\n",
       "      <td>Não</td>\n",
       "      <td>Sem informações</td>\n",
       "      <td>27.32</td>\n",
       "      <td>Normal</td>\n",
       "      <td>6.6</td>\n",
       "      <td>80</td>\n",
       "      <td>Sobrepeso</td>\n",
       "      <td>Não</td>\n",
       "    </tr>\n",
       "    <tr>\n",
       "      <th>2</th>\n",
       "      <td>Masculino</td>\n",
       "      <td>28.0</td>\n",
       "      <td>21-30</td>\n",
       "      <td>Não</td>\n",
       "      <td>Não</td>\n",
       "      <td>Nunca</td>\n",
       "      <td>27.32</td>\n",
       "      <td>Possível diabetes</td>\n",
       "      <td>5.7</td>\n",
       "      <td>158</td>\n",
       "      <td>Sobrepeso</td>\n",
       "      <td>Não</td>\n",
       "    </tr>\n",
       "    <tr>\n",
       "      <th>3</th>\n",
       "      <td>Feminino</td>\n",
       "      <td>36.0</td>\n",
       "      <td>31-40</td>\n",
       "      <td>Não</td>\n",
       "      <td>Não</td>\n",
       "      <td>Fuma pouco</td>\n",
       "      <td>23.45</td>\n",
       "      <td>Possível diabetes</td>\n",
       "      <td>5.0</td>\n",
       "      <td>155</td>\n",
       "      <td>Normal</td>\n",
       "      <td>Não</td>\n",
       "    </tr>\n",
       "    <tr>\n",
       "      <th>4</th>\n",
       "      <td>Masculino</td>\n",
       "      <td>76.0</td>\n",
       "      <td>71-80</td>\n",
       "      <td>Sim</td>\n",
       "      <td>Sim</td>\n",
       "      <td>Fuma pouco</td>\n",
       "      <td>20.14</td>\n",
       "      <td>Possível diabetes</td>\n",
       "      <td>4.8</td>\n",
       "      <td>155</td>\n",
       "      <td>Normal</td>\n",
       "      <td>Não</td>\n",
       "    </tr>\n",
       "  </tbody>\n",
       "</table>\n",
       "</div>"
      ],
      "text/plain": [
       "      genero  idade faixa_idade hipertensao doenca_cardiaca historico_fumante  \\\n",
       "0   Feminino   80.0       71-80         Não             Sim             Nunca   \n",
       "1   Feminino   54.0       51-60         Não             Não   Sem informações   \n",
       "2  Masculino   28.0       21-30         Não             Não             Nunca   \n",
       "3   Feminino   36.0       31-40         Não             Não        Fuma pouco   \n",
       "4  Masculino   76.0       71-80         Sim             Sim        Fuma pouco   \n",
       "\n",
       "     imc          faixa_imc  nivel_hba1c  nivel_glicose_sangue faixa_glicemia  \\\n",
       "0  25.19  Possível diabetes          6.6                   140      Sobrepeso   \n",
       "1  27.32             Normal          6.6                    80      Sobrepeso   \n",
       "2  27.32  Possível diabetes          5.7                   158      Sobrepeso   \n",
       "3  23.45  Possível diabetes          5.0                   155         Normal   \n",
       "4  20.14  Possível diabetes          4.8                   155         Normal   \n",
       "\n",
       "  diabetico  \n",
       "0       Não  \n",
       "1       Não  \n",
       "2       Não  \n",
       "3       Não  \n",
       "4       Não  "
      ]
     },
     "execution_count": 103,
     "metadata": {},
     "output_type": "execute_result"
    }
   ],
   "source": [
    "df.head()"
   ]
  },
  {
   "cell_type": "code",
   "execution_count": 104,
   "id": "638a2418",
   "metadata": {},
   "outputs": [
    {
     "data": {
      "text/plain": [
       "genero                    object\n",
       "idade                    float64\n",
       "faixa_idade             category\n",
       "hipertensao               object\n",
       "doenca_cardiaca           object\n",
       "historico_fumante         object\n",
       "imc                      float64\n",
       "faixa_imc               category\n",
       "nivel_hba1c              float64\n",
       "nivel_glicose_sangue       int64\n",
       "faixa_glicemia          category\n",
       "diabetico                 object\n",
       "dtype: object"
      ]
     },
     "execution_count": 104,
     "metadata": {},
     "output_type": "execute_result"
    }
   ],
   "source": [
    "# Verificando o tipo de cada coluna\n",
    "\n",
    "df.dtypes"
   ]
  },
  {
   "cell_type": "markdown",
   "id": "c9ba4823",
   "metadata": {},
   "source": [
    "# "
   ]
  },
  {
   "cell_type": "markdown",
   "id": "09c610d6",
   "metadata": {},
   "source": [
    "# Gráfico de ocorrências de pessoas diabéticas por faixa de idade"
   ]
  },
  {
   "cell_type": "code",
   "execution_count": 105,
   "id": "8e41b373",
   "metadata": {},
   "outputs": [
    {
     "data": {
      "image/png": "[encoded data removed]",
      "text/plain": [
       "<Figure size 640x480 with 1 Axes>"
      ]
     },
     "metadata": {},
     "output_type": "display_data"
    }
   ],
   "source": [
    "# Definindo a seleção de dados\n",
    "df_diabetico_idade = df[df['diabetico'] == 'Sim'].groupby('faixa_idade').size().reset_index(name='count')\n",
    "\n",
    "# Criando o gráfico de barras\n",
    "plt.bar(df_diabetico_idade['faixa_idade'], df_diabetico_idade['count'])\n",
    "\n",
    "# Definindo títulos\n",
    "plt.xlabel('Faixa de idade')\n",
    "plt.ylabel('Número de pessoas diabéticas')\n",
    "plt.title('Ocorrências de pessoas diabéticas por faixa de idade')\n",
    "\n",
    "# Exibindo o gráfico\n",
    "plt.show()"
   ]
  },
  {
   "cell_type": "markdown",
   "id": "3a5d5358",
   "metadata": {},
   "source": [
    "# "
   ]
  },
  {
   "cell_type": "markdown",
   "id": "7058e117",
   "metadata": {},
   "source": [
    "# Filtrando o dataframe pelas pessoas diabéticas"
   ]
  },
  {
   "cell_type": "code",
   "execution_count": 69,
   "id": "316abed0",
   "metadata": {},
   "outputs": [],
   "source": [
    "df_diabetico = df.loc[df['diabetico'] == 'Sim']"
   ]
  },
  {
   "cell_type": "code",
   "execution_count": 70,
   "id": "968fa85e",
   "metadata": {},
   "outputs": [
    {
     "data": {
      "text/html": [
       "<div>\n",
       "<style scoped>\n",
       "    .dataframe tbody tr th:only-of-type {\n",
       "        vertical-align: middle;\n",
       "    }\n",
       "\n",
       "    .dataframe tbody tr th {\n",
       "        vertical-align: top;\n",
       "    }\n",
       "\n",
       "    .dataframe thead th {\n",
       "        text-align: right;\n",
       "    }\n",
       "</style>\n",
       "<table border=\"1\" class=\"dataframe\">\n",
       "  <thead>\n",
       "    <tr style=\"text-align: right;\">\n",
       "      <th></th>\n",
       "      <th>genero</th>\n",
       "      <th>idade</th>\n",
       "      <th>faixa_idade</th>\n",
       "      <th>hipertensao</th>\n",
       "      <th>doenca_cardiaca</th>\n",
       "      <th>historico_fumante</th>\n",
       "      <th>imc</th>\n",
       "      <th>faixa_imc</th>\n",
       "      <th>nivel_hba1c</th>\n",
       "      <th>nivel_glicose_sangue</th>\n",
       "      <th>faixa_glicemia</th>\n",
       "      <th>diabetico</th>\n",
       "    </tr>\n",
       "  </thead>\n",
       "  <tbody>\n",
       "    <tr>\n",
       "      <th>6</th>\n",
       "      <td>Feminino</td>\n",
       "      <td>44.0</td>\n",
       "      <td>41-50</td>\n",
       "      <td>Não</td>\n",
       "      <td>Não</td>\n",
       "      <td>Nunca</td>\n",
       "      <td>19.31</td>\n",
       "      <td>Normal</td>\n",
       "      <td>6.5</td>\n",
       "      <td>200</td>\n",
       "      <td>Possível diabetes</td>\n",
       "      <td>Sim</td>\n",
       "    </tr>\n",
       "    <tr>\n",
       "      <th>26</th>\n",
       "      <td>Masculino</td>\n",
       "      <td>67.0</td>\n",
       "      <td>61-70</td>\n",
       "      <td>Não</td>\n",
       "      <td>Sim</td>\n",
       "      <td>Não fuma atualmente</td>\n",
       "      <td>27.32</td>\n",
       "      <td>Sobrepeso</td>\n",
       "      <td>6.5</td>\n",
       "      <td>200</td>\n",
       "      <td>Possível diabetes</td>\n",
       "      <td>Sim</td>\n",
       "    </tr>\n",
       "    <tr>\n",
       "      <th>38</th>\n",
       "      <td>Masculino</td>\n",
       "      <td>50.0</td>\n",
       "      <td>41-50</td>\n",
       "      <td>Sim</td>\n",
       "      <td>Não</td>\n",
       "      <td>Fuma pouco</td>\n",
       "      <td>27.32</td>\n",
       "      <td>Sobrepeso</td>\n",
       "      <td>5.7</td>\n",
       "      <td>260</td>\n",
       "      <td>Possível diabetes</td>\n",
       "      <td>Sim</td>\n",
       "    </tr>\n",
       "    <tr>\n",
       "      <th>40</th>\n",
       "      <td>Masculino</td>\n",
       "      <td>73.0</td>\n",
       "      <td>71-80</td>\n",
       "      <td>Não</td>\n",
       "      <td>Não</td>\n",
       "      <td>Ex-fumante</td>\n",
       "      <td>25.91</td>\n",
       "      <td>Sobrepeso</td>\n",
       "      <td>9.0</td>\n",
       "      <td>160</td>\n",
       "      <td>Possível diabetes</td>\n",
       "      <td>Sim</td>\n",
       "    </tr>\n",
       "    <tr>\n",
       "      <th>53</th>\n",
       "      <td>Feminino</td>\n",
       "      <td>53.0</td>\n",
       "      <td>51-60</td>\n",
       "      <td>Não</td>\n",
       "      <td>Não</td>\n",
       "      <td>Ex-fumante</td>\n",
       "      <td>27.32</td>\n",
       "      <td>Sobrepeso</td>\n",
       "      <td>7.0</td>\n",
       "      <td>159</td>\n",
       "      <td>Possível diabetes</td>\n",
       "      <td>Sim</td>\n",
       "    </tr>\n",
       "  </tbody>\n",
       "</table>\n",
       "</div>"
      ],
      "text/plain": [
       "       genero  idade faixa_idade hipertensao doenca_cardiaca  \\\n",
       "6    Feminino   44.0       41-50         Não             Não   \n",
       "26  Masculino   67.0       61-70         Não             Sim   \n",
       "38  Masculino   50.0       41-50         Sim             Não   \n",
       "40  Masculino   73.0       71-80         Não             Não   \n",
       "53   Feminino   53.0       51-60         Não             Não   \n",
       "\n",
       "      historico_fumante    imc  faixa_imc  nivel_hba1c  nivel_glicose_sangue  \\\n",
       "6                 Nunca  19.31     Normal          6.5                   200   \n",
       "26  Não fuma atualmente  27.32  Sobrepeso          6.5                   200   \n",
       "38           Fuma pouco  27.32  Sobrepeso          5.7                   260   \n",
       "40           Ex-fumante  25.91  Sobrepeso          9.0                   160   \n",
       "53           Ex-fumante  27.32  Sobrepeso          7.0                   159   \n",
       "\n",
       "       faixa_glicemia diabetico  \n",
       "6   Possível diabetes       Sim  \n",
       "26  Possível diabetes       Sim  \n",
       "38  Possível diabetes       Sim  \n",
       "40  Possível diabetes       Sim  \n",
       "53  Possível diabetes       Sim  "
      ]
     },
     "execution_count": 70,
     "metadata": {},
     "output_type": "execute_result"
    }
   ],
   "source": [
    "df_diabetico.head()"
   ]
  },
  {
   "cell_type": "code",
   "execution_count": 71,
   "id": "84b404c5",
   "metadata": {},
   "outputs": [
    {
     "data": {
      "text/plain": [
       "(8500, 12)"
      ]
     },
     "execution_count": 71,
     "metadata": {},
     "output_type": "execute_result"
    }
   ],
   "source": [
    "df_diabetico.shape"
   ]
  },
  {
   "cell_type": "markdown",
   "id": "2998e015",
   "metadata": {},
   "source": [
    "Gráfico da distribuição das categorias de histórico de fumantes, entre pessoas diabéticas:"
   ]
  },
  {
   "cell_type": "code",
   "execution_count": 72,
   "id": "68249e2c",
   "metadata": {},
   "outputs": [
    {
     "data": {
      "image/png": "[encoded data removed]",
      "text/plain": [
       "<Figure size 640x480 with 1 Axes>"
      ]
     },
     "metadata": {},
     "output_type": "display_data"
    }
   ],
   "source": [
    "# Definindo a seleção de dados\n",
    "contagem_diabeticos_fumantes = df_diabetico['historico_fumante'].value_counts()\n",
    "\n",
    "# Definindo as cores do gráfico\n",
    "cores_diabeticos_fumantes = {'Nunca': 'green', 'Ex-fumante': 'yellow', 'Fuma regularmente': 'red', 'Não fuma atualmente': 'magenta', 'Fuma pouco': 'cyan', 'Sem informações': 'blue'}\n",
    "\n",
    "# Criando o gráfico\n",
    "plt.pie(contagem_diabeticos_fumantes.values, labels=contagem_diabeticos_fumantes.index, colors=[cores_diabeticos_fumantes[x] for x in contagem_diabeticos_fumantes.index], autopct='%1.f%%', shadow = True)\n",
    "\n",
    "# Definindo título do gráfico\n",
    "plt.title('Distribuição das categorias de histórico de fumantes, entre pessoas diabéticas')\n",
    "\n",
    "# Exibindo o gráfico\n",
    "plt.show()"
   ]
  },
  {
   "cell_type": "markdown",
   "id": "7d7f3ecc",
   "metadata": {},
   "source": [
    "Gráfico de diagnóstico de hipertensão entre pessoas diabéticas:"
   ]
  },
  {
   "cell_type": "code",
   "execution_count": 73,
   "id": "5c5c5be9",
   "metadata": {},
   "outputs": [
    {
     "data": {
      "image/png": "[encoded data removed]",
      "text/plain": [
       "<Figure size 640x480 with 1 Axes>"
      ]
     },
     "metadata": {},
     "output_type": "display_data"
    }
   ],
   "source": [
    "# Definindo a seleção de dados\n",
    "contagem_diabeticos_hipertensao = df_diabetico['hipertensao'].value_counts()\n",
    "\n",
    "# Definindo as cores do gráfico\n",
    "cores_diabeticos_hipertensao = {'Sim': 'red', 'Não': 'blue'}\n",
    "\n",
    "# Criando o gráfico\n",
    "plt.pie(contagem_diabeticos_hipertensao.values, labels=contagem_diabeticos_hipertensao.index, colors=[cores_diabeticos_hipertensao[x] for x in contagem_diabeticos_hipertensao.index], autopct='%1.f%%', shadow= True)\n",
    "\n",
    "# Definindo título do gráfico\n",
    "plt.title('Diagnóstico de hipertensão entre pessoas diabéticas')\n",
    "\n",
    "# Exibindo o gráfico\n",
    "plt.show()"
   ]
  },
  {
   "cell_type": "markdown",
   "id": "53defe27",
   "metadata": {},
   "source": [
    "Gráfico de distribuição de pessoas diabéticas em diferentes categorias de IMC (classificação da OMS):"
   ]
  },
  {
   "cell_type": "code",
   "execution_count": 74,
   "id": "4353dba5",
   "metadata": {},
   "outputs": [
    {
     "data": {
      "image/png": "[encoded data removed]",
      "text/plain": [
       "<Figure size 640x480 with 1 Axes>"
      ]
     },
     "metadata": {},
     "output_type": "display_data"
    }
   ],
   "source": [
    "# Definindo a seleção de dados\n",
    "contagem_diabeticos_faixa_imc = df_diabetico['faixa_imc'].value_counts()\n",
    "\n",
    "# Definindo as cores do gráfico\n",
    "cores_diabeticos_faixa_imc = {'Baixo peso': 'blue', 'Normal': 'green', 'Sobrepeso': 'cyan', 'Obesidade': 'yellow', 'Obesidade Mórbida 1': 'magenta', 'Obesidade Mórbida 2': 'red'}\n",
    "\n",
    "# Criando o gráfico\n",
    "plt.pie(contagem_diabeticos_faixa_imc.values, labels=contagem_diabeticos_faixa_imc.index, colors=[cores_diabeticos_faixa_imc[x] for x in contagem_diabeticos_faixa_imc.index], autopct='%1.f%%', shadow= True)\n",
    "\n",
    "# Definindo título do gráfico\n",
    "plt.title('Distribuição de pessoas diabéticas em diferentes categorias de IMC (classificação da OMS)')\n",
    "\n",
    "# Exibindo o gráfico\n",
    "plt.show()"
   ]
  },
  {
   "cell_type": "markdown",
   "id": "47ef0b07",
   "metadata": {},
   "source": [
    "Gráfico de distribuição de pessoas diabéticas em diferentes categorias de glicemia:"
   ]
  },
  {
   "cell_type": "code",
   "execution_count": 75,
   "id": "7ba8018f",
   "metadata": {},
   "outputs": [
    {
     "data": {
      "image/png": "[encoded data removed]",
      "text/plain": [
       "<Figure size 640x480 with 1 Axes>"
      ]
     },
     "metadata": {},
     "output_type": "display_data"
    }
   ],
   "source": [
    "# Definindo a seleção de dados\n",
    "contagem_diabeticos_glicemia = df_diabetico['faixa_glicemia'].value_counts()\n",
    "\n",
    "# Definindo as cores do gráfico\n",
    "cores_diabeticos_glicemia = {'Hipoglicemia': 'blue', 'Normal': 'green', 'Pré-diabetes': 'yellow', 'Possível diabetes': 'red'}\n",
    "\n",
    "# Criando o gráfico\n",
    "plt.pie(contagem_diabeticos_glicemia.values, labels=contagem_diabeticos_glicemia.index, colors=[cores_diabeticos_glicemia[x] for x in contagem_diabeticos_glicemia.index], autopct='%1.f%%', shadow= True )\n",
    "\n",
    "# Definindo título do gráfico\n",
    "plt.title('Distribuição de pessoas diabéticas em diferentes categorias de glicemia')\n",
    "\n",
    "# Exibindo o gráfico\n",
    "plt.show()"
   ]
  },
  {
   "cell_type": "markdown",
   "id": "0543d88b",
   "metadata": {},
   "source": [
    "Gráfico da distibuição de pessoas diabéticas entre os gêneros:"
   ]
  },
  {
   "cell_type": "code",
   "execution_count": 76,
   "id": "fd6bc1ab",
   "metadata": {},
   "outputs": [
    {
     "data": {
      "image/png": "[encoded data removed]",
      "text/plain": [
       "<Figure size 640x480 with 1 Axes>"
      ]
     },
     "metadata": {},
     "output_type": "display_data"
    }
   ],
   "source": [
    "# Definindo a seleção de dados\n",
    "contagem_diabeticos_genero = df_diabetico['genero'].value_counts()\n",
    "\n",
    "# Definindo as cores do gráfico\n",
    "cores_diabeticos_genero = {'Masculino': 'blue', 'Feminino': 'pink', 'other': 'green'}\n",
    "\n",
    "# Criando o gráfico\n",
    "plt.pie(contagem_diabeticos_genero.values, labels=contagem_diabeticos_genero.index, colors=[cores_diabeticos_genero[x] for x in contagem_diabeticos_genero.index], autopct='%1.f%%', shadow= True )\n",
    "\n",
    "# Definindo título do gráfico\n",
    "plt.title('Distribuição de pessoas diabéticas entre os gêneros')\n",
    "\n",
    "# Exibindo o gráfico\n",
    "plt.show()"
   ]
  },
  {
   "cell_type": "markdown",
   "id": "bda48770",
   "metadata": {},
   "source": [
    "Analisando os resultados dos gráficos acima, é conclusível que obesidade e elevada glicemia sanguínea sáo fatores de risco para o diagnóstico de diabetes na população, independente do gênero. Assim sendo, a base de dados analisada é conforme com os alertas da OMS em relação a estes dois fatores."
   ]
  },
  {
   "cell_type": "code",
   "execution_count": null,
   "id": "1df15a9d",
   "metadata": {},
   "outputs": [],
   "source": []
  }
 ],
 "metadata": {
  "kernelspec": {
   "display_name": "Python 3 (ipykernel)",
   "language": "python",
   "name": "python3"
  },
  "language_info": {
   "codemirror_mode": {
    "name": "ipython",
    "version": 3
   },
   "file_extension": ".py",
   "mimetype": "text/x-python",
   "name": "python",
   "nbconvert_exporter": "python",
   "pygments_lexer": "ipython3",
   "version": "3.9.13"
  }
 },
 "nbformat": 4,
 "nbformat_minor": 5
}
